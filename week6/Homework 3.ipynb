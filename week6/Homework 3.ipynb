{
 "cells": [
  {
   "cell_type": "markdown",
   "metadata": {},
   "source": [
    "# Homework 3 (Due Wednesday, December 14th at 11:59pm PST)\n",
    "\n",
    "Please submit as a notebook in the format `HW3_FIRSTNAME_LASTNAME_USCID.ipynb` in a group chat to me and the TAs.\n",
    "Your `USCID` is your student 10-digit ID."
   ]
  },
  {
   "cell_type": "markdown",
   "metadata": {},
   "source": [
    "## Find the Most Similar Courses (5pts)\n",
    "\n",
    "1. Pick one of the pre-trained transformer models from `huggingface` to use to vectorize the Udemy course descriptions and course titles as embeddings.\n",
    "2. Use the new embeddings to find the most similar pair of courses from the top 500 list."
   ]
  },
  {
   "cell_type": "markdown",
   "metadata": {},
   "source": [
    "## Experiment with Fine-Tuning A Hugging Face Model (5 pts)\n",
    "\n",
    "1. Pick ANY labelled dataset that we have worked on in class or any text dataset (using `load_dataset(...)`) from Huggingface.\n",
    "\n",
    "2. Report individual accuracies after **fine-tuning 3 different variations of a HuggingFace model**. You can choose to \"vary\" your model using any of the following dimensions:\n",
    "- picking different layers to \"freeze\"\n",
    "- picking different \"size\" pretrained baseline models\n",
    "- picking different max sequence lengths\n",
    "\n",
    "Explain your results in 1-2 sentences. Does accuracy improve with longer sequences / larger models / fewer unfrozen layers? What is your hypothesis as to why/why not?"
   ]
  }
 ],
 "metadata": {
  "kernelspec": {
   "display_name": "Python 3 (ipykernel)",
   "language": "python",
   "name": "python3"
  },
  "language_info": {
   "codemirror_mode": {
    "name": "ipython",
    "version": 3
   },
   "file_extension": ".py",
   "mimetype": "text/x-python",
   "name": "python",
   "nbconvert_exporter": "python",
   "pygments_lexer": "ipython3",
   "version": "3.9.6"
  },
  "toc": {
   "base_numbering": 1,
   "nav_menu": {},
   "number_sections": true,
   "sideBar": true,
   "skip_h1_title": false,
   "title_cell": "Table of Contents",
   "title_sidebar": "Contents",
   "toc_cell": false,
   "toc_position": {},
   "toc_section_display": true,
   "toc_window_display": false
  }
 },
 "nbformat": 4,
 "nbformat_minor": 4
}
