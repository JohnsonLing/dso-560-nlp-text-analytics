{
 "cells": [
  {
   "cell_type": "code",
   "execution_count": null,
   "id": "4172201e",
   "metadata": {},
   "outputs": [],
   "source": [
    "_RECIPIENT_"
   ]
  },
  {
   "cell_type": "markdown",
   "id": "ddcb38a2",
   "metadata": {},
   "source": [
    "# Homework 1 (Due Thursday, November 3rd, 2022 at 6:29pm PST)\n",
    "\n",
    "Every day late is -10%.\n",
    "\n",
    "You are a business analyst working for a major US toy retailer. A manager in the marketing department would like your help to build a classification model that will predict whether a review is positive or negative. use the `../datasets/good_amazon_toy_reviews.txt` and `../datasets/poor_amazon_toy_reviews.txt` datasets for this exercise.\n",
    "\n",
    "Combined the good and the poor datasets together. \n",
    "\n",
    "### Preprocessing and Regex (3pts)\n",
    "\n",
    "Perform the following cleanup steps:\n",
    "\n",
    "* There are malformed characters in the review text. For instance, notice the `&#34;` - these are examples of incorrectly decoded [HTML encodings](https://krypted.com/utilities/html-encoding-reference/).\n",
    "```\n",
    "\"amazing quality first of all, these cards are amazing proxies (but don't try to use em in &#34;official duels&#34; unless a judge is okay with it, if you have the real thing to show) and look amazing in your binder!\"\n",
    "```\n",
    "Please clean up all instances of these incorrect decodings.\n",
    "\n",
    "* Use **regular expressions to parse out and normalize all references to recipients (children, spouses, parents, etc.) and gift occasions (Christmas, birthdays, and anniversaries)**, and account for the possibility that people may spell words \"son\" / \"children\" / \"Christmas\" as both singular and plural, upper or lower-cased.\n",
    "\n",
    "### Vectorization (7pts)\n",
    "\n",
    "* with/without stopword removal\n",
    "* with 1) no stemming or lemmatization, 2) stemming, 3) lemmatization\n",
    "* using `TfIdfVectorizer` versus `CountVectorizer`\n",
    "* using `ngram` sizes of 1, 2, and 3\n",
    "\n",
    "EDIT: Perform vectorization using the above instructions. Print out the shape of the final vectorized datasets.\n",
    "\n",
    "**Submit everything as a new notebook and Slack direct message to me (Yu Chen) and the TAs the HW as an attachment.**\n",
    "\n",
    "**NOTE**: Name the notebook `lastname_firstname_HW1.ipynb`."
   ]
  },
  {
   "cell_type": "code",
   "execution_count": null,
   "id": "9b185174",
   "metadata": {},
   "outputs": [],
   "source": []
  }
 ],
 "metadata": {
  "kernelspec": {
   "display_name": "Python 3 (ipykernel)",
   "language": "python",
   "name": "python3"
  },
  "language_info": {
   "codemirror_mode": {
    "name": "ipython",
    "version": 3
   },
   "file_extension": ".py",
   "mimetype": "text/x-python",
   "name": "python",
   "nbconvert_exporter": "python",
   "pygments_lexer": "ipython3",
   "version": "3.9.6"
  }
 },
 "nbformat": 4,
 "nbformat_minor": 5
}
