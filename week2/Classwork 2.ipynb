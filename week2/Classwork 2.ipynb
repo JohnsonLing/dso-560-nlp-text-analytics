{
 "cells": [
  {
   "cell_type": "markdown",
   "id": "76053a7d",
   "metadata": {},
   "source": [
    "**Note**: If you are given an opportunity to resubmit, you have 24 hours to do so."
   ]
  },
  {
   "cell_type": "markdown",
   "id": "3f1b0ef3",
   "metadata": {},
   "source": [
    "1. **Provide a specific example of how stemming could improve recall.**"
   ]
  },
  {
   "cell_type": "code",
   "execution_count": null,
   "id": "02ec1f23",
   "metadata": {},
   "outputs": [],
   "source": []
  },
  {
   "cell_type": "markdown",
   "id": "c9e6543e",
   "metadata": {},
   "source": [
    "2. **Provide a specific example of a character that requires more than 1 byte to encode. Explain why it takes more than 1 byte to encode, and which encoding scheme would be needed.**"
   ]
  },
  {
   "cell_type": "code",
   "execution_count": null,
   "id": "00ceec91",
   "metadata": {},
   "outputs": [],
   "source": []
  },
  {
   "cell_type": "markdown",
   "id": "27ff3c39",
   "metadata": {},
   "source": [
    "3. **Perform TF-IDF vectorization on the following 3 documents (assume unigrams, no stopwords, no additional text preprocessing:**\n",
    "\n",
    "Use the following functions:\n",
    "* TF(doc, term) = count of times `term` appears in doc\n",
    "* IDF(term) = (# of docs) / (# of docs `term` appears in)\n",
    "\n",
    "Documents:\n",
    "* A. trendy wood chair\n",
    "* B. old discount blue jeans old discount\n",
    "* C. discount old blue trendy sweater"
   ]
  },
  {
   "cell_type": "markdown",
   "id": "1f2a014c",
   "metadata": {},
   "source": [
    "4. **Substitute the emails below with `_EMAIL_`.**\n",
    "\n",
    "> \"My email is yuchen@gmail.com, but I tend to use yuchen@msn.com more often.\""
   ]
  },
  {
   "cell_type": "code",
   "execution_count": null,
   "id": "fedfa49d",
   "metadata": {},
   "outputs": [],
   "source": []
  },
  {
   "cell_type": "markdown",
   "id": "6081847d",
   "metadata": {},
   "source": [
    "5. **Use regex capture groups to return ONLY the domain (the .com portion) of emails.**\n",
    "\n",
    "> \"My email is yuchen@gmail.com, but I tend to use yuchen@msn.com more often.\""
   ]
  },
  {
   "cell_type": "code",
   "execution_count": null,
   "id": "270d1aaa",
   "metadata": {},
   "outputs": [],
   "source": []
  }
 ],
 "metadata": {
  "kernelspec": {
   "display_name": "Python 3 (ipykernel)",
   "language": "python",
   "name": "python3"
  },
  "language_info": {
   "codemirror_mode": {
    "name": "ipython",
    "version": 3
   },
   "file_extension": ".py",
   "mimetype": "text/x-python",
   "name": "python",
   "nbconvert_exporter": "python",
   "pygments_lexer": "ipython3",
   "version": "3.9.6"
  }
 },
 "nbformat": 4,
 "nbformat_minor": 5
}
