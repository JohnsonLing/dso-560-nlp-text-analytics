{
 "cells": [
  {
   "cell_type": "markdown",
   "metadata": {},
   "source": [
    "# Spacy"
   ]
  },
  {
   "cell_type": "markdown",
   "metadata": {},
   "source": [
    "### Models\n",
    "\n",
    "Spacy comes with a variety of different models that can used per language. For instance, the models for English are available [here](https://spacy.io/models/en). You'll need to download each model separately:\n",
    "\n",
    "```python\n",
    "python3 -m spacy download en_core_web_sm\n",
    "python3 -m spacy download en_core_web_md\n",
    "\n",
    "```"
   ]
  },
  {
   "cell_type": "markdown",
   "metadata": {},
   "source": [
    "## Pattern Matching Using Spacy"
   ]
  },
  {
   "cell_type": "markdown",
   "metadata": {},
   "source": [
    "The below code and example is from Ashiq KS's article [Rule-Based Matching with spacy](https://medium.com/@ashiqgiga07/rule-based-matching-with-spacy-295b76ca2b68):"
   ]
  },
  {
   "cell_type": "code",
   "execution_count": null,
   "metadata": {},
   "outputs": [],
   "source": [
    "#The input text string is converted to a Document object\n",
    "text = '''\n",
    "Computer programming is the process of writing instructions that get executed by computers. \n",
    "The instructions, also known as code, are written in a programming language which the computer \n",
    "can understand and use to perform a task or solve a problem. Basic computer programming involves \n",
    "the analysis of a problem and development of a logical sequence of instructions to solve it. \n",
    "There can be numerous paths to a solution and the computer programmer seeks to design and \n",
    "code that which is most efficient. Among the programmer’s tasks are understanding requirements, \n",
    "determining the right programming language to use, designing or architecting the solution, coding, \n",
    "testing, debugging and writing documentation so that the solution can be easily\n",
    "understood by other programmers.Computer programming is at the heart of computer science. It is the \n",
    "implementation portion of software development, application development \n",
    "and software engineering efforts, transforming ideas and theories into actual, working solutions.\n",
    "'''"
   ]
  },
  {
   "cell_type": "code",
   "execution_count": null,
   "metadata": {},
   "outputs": [],
   "source": [
    "from spacy.matcher import Matcher #import Matcher class from spacy\n",
    "#import the Span class to extract the words from the document object\n",
    "from spacy.tokens import Span \n",
    "\n",
    "#Language class with the English model 'en_core_web_sm' is loaded\n",
    "nlp = spacy.load(\"en_core_web_sm\")\n",
    "\n",
    "doc = nlp(text) # convert the string above to a document\n",
    "\n",
    "#instantiate a new Matcher class object \n",
    "matcher = Matcher(nlp.vocab)"
   ]
  },
  {
   "cell_type": "markdown",
   "metadata": {},
   "source": [
    "### Define the Target Pattern"
   ]
  },
  {
   "cell_type": "markdown",
   "metadata": {},
   "source": [
    "The `pattern` object that you define should be a list of dictionary elements, each dictionary describing the token to match for. \n",
    "\n",
    "Here, we are matching for the usage of `computer` as a `NOUN`."
   ]
  },
  {
   "cell_type": "code",
   "execution_count": null,
   "metadata": {},
   "outputs": [],
   "source": [
    "#define the pattern\n",
    "pattern = [{'LOWER': 'computer', 'POS': 'NOUN'},\n",
    "             {'POS':{'NOT_IN': ['VERB']}}]\n"
   ]
  },
  {
   "cell_type": "markdown",
   "metadata": {},
   "source": [
    "### Load the Pattern into the Matcher"
   ]
  },
  {
   "cell_type": "code",
   "execution_count": null,
   "metadata": {},
   "outputs": [],
   "source": [
    "#add the pattern to the previously created matcher object\n",
    "matcher.add(\"Matching\", None, pattern)"
   ]
  },
  {
   "cell_type": "markdown",
   "metadata": {},
   "source": [
    "## Using Regular Expressions in Spacy"
   ]
  },
  {
   "cell_type": "markdown",
   "metadata": {},
   "source": [
    "The below example can be found at https://spacy.io/usage/rule-based-matching. It uses the `re.finditer()` function to\n",
    "quickly iterate through all the matches found. "
   ]
  },
  {
   "cell_type": "code",
   "execution_count": 1,
   "metadata": {},
   "outputs": [
    {
     "name": "stdout",
     "output_type": "stream",
     "text": [
      "Found match: United States\n",
      "Found match: United States\n",
      "Found match: US\n"
     ]
    }
   ],
   "source": [
    "import spacy\n",
    "import re\n",
    "nlp = spacy.load(\"en_core_web_sm\")\n",
    "doc = nlp(\"The United States of America (USA) are commonly known as the United States (U.S. or US) or America.\")\n",
    "\n",
    "expression = r\"\\b[Uu](nited|\\.?) ?[Ss](tates|\\.?)\\b\"\n",
    "for match in re.finditer(expression, doc.text):\n",
    "    start, end = match.span()\n",
    "    span = doc.char_span(start, end)\n",
    "    # This is a Span object or None if match doesn't map to valid token sequence\n",
    "    if span is not None:\n",
    "        print(\"Found match:\", span.text)"
   ]
  },
  {
   "cell_type": "markdown",
   "metadata": {},
   "source": [
    "## Part of Speech Tagging"
   ]
  },
  {
   "cell_type": "code",
   "execution_count": null,
   "metadata": {},
   "outputs": [],
   "source": [
    "!python3 -m spacy download en_core_web_sm\n",
    "!python3 -m spacy download en_core_web_md"
   ]
  },
  {
   "cell_type": "code",
   "execution_count": 2,
   "metadata": {},
   "outputs": [],
   "source": [
    "import en_core_web_sm\n",
    "import spacy\n",
    "from scipy.spatial.distance import cosine\n",
    "import spacy\n",
    "\n",
    "nlp = spacy.load('en_core_web_md')"
   ]
  },
  {
   "cell_type": "code",
   "execution_count": 3,
   "metadata": {},
   "outputs": [],
   "source": [
    "doc = nlp(u\"Steve Jobs and Apple is looking at buying U.K. startup for $1 billion\")"
   ]
  },
  {
   "cell_type": "code",
   "execution_count": 2,
   "metadata": {},
   "outputs": [
    {
     "data": {
      "text/html": [
       "<div>\n",
       "<style scoped>\n",
       "    .dataframe tbody tr th:only-of-type {\n",
       "        vertical-align: middle;\n",
       "    }\n",
       "\n",
       "    .dataframe tbody tr th {\n",
       "        vertical-align: top;\n",
       "    }\n",
       "\n",
       "    .dataframe thead th {\n",
       "        text-align: right;\n",
       "    }\n",
       "</style>\n",
       "<table border=\"1\" class=\"dataframe\">\n",
       "  <thead>\n",
       "    <tr style=\"text-align: right;\">\n",
       "      <th></th>\n",
       "      <th>text</th>\n",
       "      <th>lemma</th>\n",
       "      <th>part_of_speech</th>\n",
       "      <th>tag</th>\n",
       "      <th>dependency</th>\n",
       "      <th>shape</th>\n",
       "      <th>is_alphanumeric</th>\n",
       "      <th>is_stopword</th>\n",
       "    </tr>\n",
       "  </thead>\n",
       "  <tbody>\n",
       "    <tr>\n",
       "      <th>0</th>\n",
       "      <td>Steve</td>\n",
       "      <td>Steve</td>\n",
       "      <td>PROPN</td>\n",
       "      <td>NNP</td>\n",
       "      <td>compound</td>\n",
       "      <td>Xxxxx</td>\n",
       "      <td>True</td>\n",
       "      <td>False</td>\n",
       "    </tr>\n",
       "    <tr>\n",
       "      <th>1</th>\n",
       "      <td>Jobs</td>\n",
       "      <td>Jobs</td>\n",
       "      <td>PROPN</td>\n",
       "      <td>NNP</td>\n",
       "      <td>nsubj</td>\n",
       "      <td>Xxxx</td>\n",
       "      <td>True</td>\n",
       "      <td>False</td>\n",
       "    </tr>\n",
       "    <tr>\n",
       "      <th>2</th>\n",
       "      <td>and</td>\n",
       "      <td>and</td>\n",
       "      <td>CCONJ</td>\n",
       "      <td>CC</td>\n",
       "      <td>cc</td>\n",
       "      <td>xxx</td>\n",
       "      <td>True</td>\n",
       "      <td>True</td>\n",
       "    </tr>\n",
       "    <tr>\n",
       "      <th>3</th>\n",
       "      <td>Apple</td>\n",
       "      <td>Apple</td>\n",
       "      <td>PROPN</td>\n",
       "      <td>NNP</td>\n",
       "      <td>conj</td>\n",
       "      <td>Xxxxx</td>\n",
       "      <td>True</td>\n",
       "      <td>False</td>\n",
       "    </tr>\n",
       "    <tr>\n",
       "      <th>4</th>\n",
       "      <td>is</td>\n",
       "      <td>be</td>\n",
       "      <td>AUX</td>\n",
       "      <td>VBZ</td>\n",
       "      <td>aux</td>\n",
       "      <td>xx</td>\n",
       "      <td>True</td>\n",
       "      <td>True</td>\n",
       "    </tr>\n",
       "  </tbody>\n",
       "</table>\n",
       "</div>"
      ],
      "text/plain": [
       "    text  lemma part_of_speech  tag dependency  shape  is_alphanumeric  \\\n",
       "0  Steve  Steve          PROPN  NNP   compound  Xxxxx             True   \n",
       "1   Jobs   Jobs          PROPN  NNP      nsubj   Xxxx             True   \n",
       "2    and    and          CCONJ   CC         cc    xxx             True   \n",
       "3  Apple  Apple          PROPN  NNP       conj  Xxxxx             True   \n",
       "4     is     be            AUX  VBZ        aux     xx             True   \n",
       "\n",
       "   is_stopword  \n",
       "0        False  \n",
       "1        False  \n",
       "2         True  \n",
       "3        False  \n",
       "4         True  "
      ]
     },
     "execution_count": 2,
     "metadata": {},
     "output_type": "execute_result"
    }
   ],
   "source": [
    "import pandas as pd\n",
    "rows = []\n",
    "doc = nlp(u\"Steve Jobs and Apple is looking at buying U.K. startup for $1 billion\")\n",
    "for token in doc:\n",
    "    rows.append((token.text, token.lemma_, token.pos_, token.tag_, token.dep_,\n",
    "            token.shape_, token.is_alpha, token.is_stop))\n",
    "    \n",
    "data = pd.DataFrame(rows, columns=[\"text\", \"lemma\", \"part_of_speech\", \"tag\", \"dependency\", \"shape\", \"is_alphanumeric\", \"is_stopword\"])\n",
    "data.head()"
   ]
  },
  {
   "cell_type": "markdown",
   "metadata": {},
   "source": [
    "### Named Entity Recognition"
   ]
  },
  {
   "cell_type": "code",
   "execution_count": null,
   "metadata": {},
   "outputs": [],
   "source": [
    "# example from spacy docs\n",
    "doc = nlp(u\"Steve Jobs and Apple is looking at buying U.K. startup for $1 billion\")\n",
    "import en_core_web_sm\n",
    "import spacy\n",
    "from scipy.spatial.distance import cosine\n",
    "nlp = en_core_web_sm.load()\n",
    "\n",
    "for ent in doc.ents:\n",
    "    print(ent.text, ent.start_char, ent.end_char, ent.label_)"
   ]
  },
  {
   "cell_type": "code",
   "execution_count": null,
   "metadata": {},
   "outputs": [],
   "source": [
    "# visualize this using displacy:\n",
    "from spacy import displacy\n",
    "displacy.render(doc, style=\"ent\", jupyter=True)"
   ]
  },
  {
   "cell_type": "markdown",
   "metadata": {},
   "source": [
    "# Word Embeddings (word2vec Introduction) from Intro to Algorithmic Marketing"
   ]
  },
  {
   "cell_type": "markdown",
   "metadata": {},
   "source": [
    "## Continuous Bag of Words (Use Context to Predict Target Word)\n",
    "![alt text](https://raw.githubusercontent.com/ychennay/dso-560-nlp-text-analytics/main/images/word2vec_cbow.png \"Logo Title Text 1\")"
   ]
  },
  {
   "cell_type": "markdown",
   "metadata": {},
   "source": [
    "## Softmax\n",
    "![alt text](https://raw.githubusercontent.com/ychennay/dso-560-nlp-text-analytics/main/images/softmax.png \"Logo Title Text 1\")"
   ]
  },
  {
   "cell_type": "markdown",
   "metadata": {},
   "source": [
    "## Skipgram\n",
    "![alt text](https://raw.githubusercontent.com/ychennay/dso-560-nlp-text-analytics/main/images/skipgram.png \"Logo Title Text 1\")\n",
    "\n",
    "## Softmax\n",
    "![alt text](https://raw.githubusercontent.com/ychennay/dso-560-nlp-text-analytics/main/images/wordembedding_cluster.png \"Logo Title Text 1\")"
   ]
  },
  {
   "cell_type": "code",
   "execution_count": 7,
   "metadata": {},
   "outputs": [
    {
     "name": "stdout",
     "output_type": "stream",
     "text": [
      "[-2.5035 -4.4334 -3.5839 -1.1924 -2.6549]\n",
      "[ 3.9661 -3.784  -1.7973  4.8387 -3.1422]\n",
      "[ 1.6477  -0.62039  0.49445  0.59497  0.21123]\n"
     ]
    }
   ],
   "source": [
    "for token in nlp(\"cake pie cookie\"):\n",
    "    for token2 in nlp(\"cake pie cookie\")"
   ]
  },
  {
   "cell_type": "code",
   "execution_count": null,
   "metadata": {},
   "outputs": [],
   "source": [
    "import en_core_web_sm\n",
    "import en_core_web_md\n",
    "import spacy\n",
    "from scipy.spatial.distance import cosine\n",
    "nlp = en_core_web_sm.load()"
   ]
  },
  {
   "cell_type": "code",
   "execution_count": 8,
   "metadata": {},
   "outputs": [
    {
     "name": "stdout",
     "output_type": "stream",
     "text": [
      " dog - cat: 0.8220816850662231\n",
      " dog - Beijing: 0.002425447339192033\n",
      " dog - sad: 0.07570135593414307\n",
      " dog - depressed: 0.03279789537191391\n",
      " dog - couch: 0.3259493410587311\n",
      " dog - sofa: 0.23664459586143494\n",
      " dog - canine: 0.719451904296875\n",
      " dog - China: -0.04230016842484474\n",
      " dog - Chinese: -0.029234278947114944\n",
      " dog - France: -0.06262815743684769\n",
      " dog - Paris: -0.05884140357375145\n",
      " dog - banana: 0.2090904712677002\n",
      " cat - dog: 0.8220816850662231\n",
      " cat - Beijing: -0.01780039817094803\n",
      " cat - sad: 0.1828613430261612\n",
      " cat - depressed: 0.03235473856329918\n",
      " cat - couch: 0.38777071237564087\n",
      " cat - sofa: 0.31662240624427795\n",
      " cat - canine: 0.6167997121810913\n",
      " cat - China: -0.004194827750325203\n",
      " cat - Chinese: 0.005479123443365097\n",
      " cat - France: -0.12037640064954758\n",
      " cat - Paris: -0.026788583025336266\n",
      " cat - banana: 0.2235882729291916\n",
      " Beijing - dog: 0.002425447339192033\n",
      " Beijing - cat: -0.01780039817094803\n",
      " Beijing - sad: -0.07578963041305542\n",
      " Beijing - depressed: 0.15482419729232788\n",
      " Beijing - couch: -0.09267827123403549\n",
      " Beijing - sofa: -0.09635340422391891\n",
      " Beijing - canine: 0.0005792342708446085\n",
      " Beijing - China: 0.7576244473457336\n",
      " Beijing - Chinese: 0.656322181224823\n",
      " Beijing - France: 0.3342233896255493\n",
      " Beijing - Paris: 0.36522090435028076\n",
      " Beijing - banana: -0.05248577520251274\n",
      " sad - dog: 0.07570135593414307\n",
      " sad - cat: 0.1828613430261612\n",
      " sad - Beijing: -0.07578963041305542\n",
      " sad - depressed: 0.3065929412841797\n",
      " sad - couch: 0.12397421151399612\n",
      " sad - sofa: 0.06922245025634766\n",
      " sad - canine: -0.004827274475246668\n",
      " sad - China: -0.05402936413884163\n",
      " sad - Chinese: -0.09933916479349136\n",
      " sad - France: -0.14502935111522675\n",
      " sad - Paris: -0.05277536064386368\n",
      " sad - banana: 0.09653806686401367\n",
      " depressed - dog: 0.03279789537191391\n",
      " depressed - cat: 0.03235473856329918\n",
      " depressed - Beijing: 0.15482419729232788\n",
      " depressed - sad: 0.3065929412841797\n",
      " depressed - couch: 0.03174722194671631\n",
      " depressed - sofa: -0.0482107438147068\n",
      " depressed - canine: 0.1290651559829712\n",
      " depressed - China: 0.2392738163471222\n",
      " depressed - Chinese: 0.24559326469898224\n",
      " depressed - France: 0.287264883518219\n",
      " depressed - Paris: 0.06793149560689926\n",
      " depressed - banana: 0.05597629025578499\n",
      " couch - dog: 0.3259493410587311\n",
      " couch - cat: 0.38777071237564087\n",
      " couch - Beijing: -0.09267827123403549\n",
      " couch - sad: 0.12397421151399612\n",
      " couch - depressed: 0.03174722194671631\n",
      " couch - sofa: 0.8376800417900085\n",
      " couch - canine: 0.18913139402866364\n",
      " couch - China: -0.09443321824073792\n",
      " couch - Chinese: -0.0985521450638771\n",
      " couch - France: -0.11813614517450333\n",
      " couch - Paris: -0.03868206590414047\n",
      " couch - banana: 0.2754875719547272\n",
      " sofa - dog: 0.23664459586143494\n",
      " sofa - cat: 0.31662240624427795\n",
      " sofa - Beijing: -0.09635340422391891\n",
      " sofa - sad: 0.06922245025634766\n",
      " sofa - depressed: -0.0482107438147068\n",
      " sofa - couch: 0.8376800417900085\n",
      " sofa - canine: 0.15772858262062073\n",
      " sofa - China: -0.062092941254377365\n",
      " sofa - Chinese: -0.06429795920848846\n",
      " sofa - France: -0.053571637719869614\n",
      " sofa - Paris: -0.010519130155444145\n",
      " sofa - banana: 0.1568748950958252\n",
      " canine - dog: 0.719451904296875\n",
      " canine - cat: 0.6167997121810913\n",
      " canine - Beijing: 0.0005792342708446085\n",
      " canine - sad: -0.004827274475246668\n",
      " canine - depressed: 0.1290651559829712\n",
      " canine - couch: 0.18913139402866364\n",
      " canine - sofa: 0.15772858262062073\n",
      " canine - China: -0.0055264756083488464\n",
      " canine - Chinese: 0.04628412798047066\n",
      " canine - France: 0.04465959221124649\n",
      " canine - Paris: -0.012042265385389328\n",
      " canine - banana: 0.09559355676174164\n",
      " China - dog: -0.04230016842484474\n",
      " China - cat: -0.004194827750325203\n",
      " China - Beijing: 0.7576244473457336\n",
      " China - sad: -0.05402936413884163\n",
      " China - depressed: 0.2392738163471222\n",
      " China - couch: -0.09443321824073792\n",
      " China - sofa: -0.062092941254377365\n",
      " China - canine: -0.0055264756083488464\n",
      " China - Chinese: 0.7596927881240845\n",
      " China - France: 0.46787479519844055\n",
      " China - Paris: 0.17898134887218475\n",
      " China - banana: 0.06955646723508835\n",
      " Chinese - dog: -0.029234278947114944\n",
      " Chinese - cat: 0.005479123443365097\n",
      " Chinese - Beijing: 0.656322181224823\n",
      " Chinese - sad: -0.09933916479349136\n",
      " Chinese - depressed: 0.24559326469898224\n",
      " Chinese - couch: -0.0985521450638771\n",
      " Chinese - sofa: -0.06429795920848846\n",
      " Chinese - canine: 0.04628412798047066\n",
      " Chinese - China: 0.7596927881240845\n",
      " Chinese - France: 0.380295991897583\n",
      " Chinese - Paris: 0.15211237967014313\n",
      " Chinese - banana: 0.09432801604270935\n",
      " France - dog: -0.06262815743684769\n",
      " France - cat: -0.12037640064954758\n",
      " France - Beijing: 0.3342233896255493\n",
      " France - sad: -0.14502935111522675\n",
      " France - depressed: 0.287264883518219\n",
      " France - couch: -0.11813614517450333\n",
      " France - sofa: -0.053571637719869614\n",
      " France - canine: 0.04465959221124649\n",
      " France - China: 0.46787479519844055\n",
      " France - Chinese: 0.380295991897583\n",
      " France - Paris: 0.6351409554481506\n",
      " France - banana: -0.010739622637629509\n",
      " Paris - dog: -0.05884140357375145\n",
      " Paris - cat: -0.026788583025336266\n",
      " Paris - Beijing: 0.36522090435028076\n",
      " Paris - sad: -0.05277536064386368\n",
      " Paris - depressed: 0.06793149560689926\n",
      " Paris - couch: -0.03868206590414047\n",
      " Paris - sofa: -0.010519130155444145\n",
      " Paris - canine: -0.012042265385389328\n",
      " Paris - China: 0.17898134887218475\n",
      " Paris - Chinese: 0.15211237967014313\n",
      " Paris - France: 0.6351409554481506\n",
      " Paris - banana: -0.05507303774356842\n",
      " banana - dog: 0.2090904712677002\n",
      " banana - cat: 0.2235882729291916\n",
      " banana - Beijing: -0.05248577520251274\n",
      " banana - sad: 0.09653806686401367\n",
      " banana - depressed: 0.05597629025578499\n",
      " banana - couch: 0.2754875719547272\n",
      " banana - sofa: 0.1568748950958252\n",
      " banana - canine: 0.09559355676174164\n",
      " banana - China: 0.06955646723508835\n",
      " banana - Chinese: 0.09432801604270935\n",
      " banana - France: -0.010739622637629509\n",
      " banana - Paris: -0.05507303774356842\n"
     ]
    }
   ],
   "source": [
    "tokens = nlp(u'dog cat Beijing sad depressed couch sofa canine China Chinese France Paris banana')\n",
    "\n",
    "for token1 in tokens:\n",
    "    for token2 in tokens:\n",
    "        if token1 != token2:\n",
    "            print(f\" {token1} - {token2}: {1 - cosine(token1.vector, token2.vector)}\")"
   ]
  },
  {
   "cell_type": "markdown",
   "metadata": {},
   "source": [
    "# Finding Most Similar Words (Using Our Old Methods)"
   ]
  },
  {
   "cell_type": "code",
   "execution_count": null,
   "metadata": {},
   "outputs": [],
   "source": [
    "from sklearn.feature_extraction.text import CountVectorizer\n",
    "\n",
    "# inspect the default settings for CountVectorizer\n",
    "CountVectorizer()"
   ]
  },
  {
   "cell_type": "code",
   "execution_count": null,
   "metadata": {},
   "outputs": [],
   "source": [
    "reviews = open(\"poor_amazon_toy_reviews.txt\").readlines()\n",
    "\n",
    "vectorizer = CountVectorizer(ngram_range=(1, 1), \n",
    "                             stop_words=\"english\", \n",
    "                             max_features=500,token_pattern='(?u)\\\\b[a-zA-Z][a-zA-Z]+\\\\b')\n",
    "X = vectorizer.fit_transform(reviews)\n",
    "\n",
    "data = pd.DataFrame(X.toarray(), columns=vectorizer.get_feature_names())\n",
    "data.head()"
   ]
  },
  {
   "cell_type": "code",
   "execution_count": null,
   "metadata": {},
   "outputs": [],
   "source": [
    "from sklearn.metrics.pairwise import cosine_similarity\n",
    "\n",
    "# create similiarity matrix\n",
    "similarity_matrix = pd.DataFrame(cosine_similarity(data.T.values), \n",
    "             columns=vectorizer.get_feature_names(),\n",
    "                                 index=vectorizer.get_feature_names())"
   ]
  },
  {
   "cell_type": "code",
   "execution_count": null,
   "metadata": {},
   "outputs": [],
   "source": [
    "# unstack matrix into table\n",
    "similarity_table = similarity_matrix.rename_axis(None).rename_axis(None, axis=1).stack().reset_index()"
   ]
  },
  {
   "cell_type": "code",
   "execution_count": null,
   "metadata": {},
   "outputs": [],
   "source": [
    "# rename columns\n",
    "similarity_table.columns = [\"word1\", \"word2\", \"similarity\"]\n",
    "similarity_table.shape"
   ]
  },
  {
   "cell_type": "code",
   "execution_count": null,
   "metadata": {},
   "outputs": [],
   "source": [
    "similarity_table = similarity_table[similarity_table[\"similarity\"] < 0.99]\n",
    "similarity_table.shape"
   ]
  },
  {
   "cell_type": "code",
   "execution_count": null,
   "metadata": {},
   "outputs": [],
   "source": [
    "similarity_table.sort_values(by=\"similarity\", ascending=False).drop_duplicates(\n",
    "    subset=\"similarity\", keep=\"first\").head(10)"
   ]
  },
  {
   "cell_type": "code",
   "execution_count": null,
   "metadata": {},
   "outputs": [],
   "source": [
    "top_500_words = vectorizer.get_feature_names()"
   ]
  },
  {
   "cell_type": "markdown",
   "metadata": {},
   "source": [
    "# Exercise: Similar Words Using Word Embeddings"
   ]
  },
  {
   "cell_type": "code",
   "execution_count": null,
   "metadata": {},
   "outputs": [],
   "source": [
    "# load into spacy your top 500 words\n",
    "\n",
    "tokens = nlp(f'{\" \".join(top_500_words)}')"
   ]
  },
  {
   "cell_type": "code",
   "execution_count": null,
   "metadata": {},
   "outputs": [],
   "source": [
    "from itertools import product\n",
    "# create a list of similarity tuples\n",
    "\n",
    "similarity_tuples = []\n",
    "\n",
    "for token1, token2 in product(tokens, repeat=2):\n",
    "    similarity_tuples.append((token1, token2, token1.similarity(token2)))\n",
    "\n",
    "similarities = pd.DataFrame(similarity_tuples, columns=[\"word1\",\"word2\", \"score\"])\n"
   ]
  },
  {
   "cell_type": "code",
   "execution_count": null,
   "metadata": {},
   "outputs": [],
   "source": [
    "# find similar words\n",
    "similarities[similarities[\"score\"] < 1].sort_values(\n",
    "    by=\"score\", ascending=False).drop_duplicates(\n",
    "    subset=\"score\", keep=\"first\").head(5)"
   ]
  }
 ],
 "metadata": {
  "kernelspec": {
   "display_name": "Python 3 (ipykernel)",
   "language": "python",
   "name": "python3"
  },
  "language_info": {
   "codemirror_mode": {
    "name": "ipython",
    "version": 3
   },
   "file_extension": ".py",
   "mimetype": "text/x-python",
   "name": "python",
   "nbconvert_exporter": "python",
   "pygments_lexer": "ipython3",
   "version": "3.9.6"
  },
  "toc": {
   "base_numbering": 1,
   "nav_menu": {},
   "number_sections": true,
   "sideBar": true,
   "skip_h1_title": false,
   "title_cell": "Table of Contents",
   "title_sidebar": "Contents",
   "toc_cell": false,
   "toc_position": {},
   "toc_section_display": true,
   "toc_window_display": false
  }
 },
 "nbformat": 4,
 "nbformat_minor": 2
}
