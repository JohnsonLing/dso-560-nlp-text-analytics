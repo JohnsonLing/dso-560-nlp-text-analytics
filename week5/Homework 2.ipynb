{
 "cells": [
  {
   "cell_type": "markdown",
   "id": "e9896b62",
   "metadata": {},
   "source": [
    "# Homework 2 (Due Thursday Dec 1, 6:29pm PST)\n",
    "\n",
    "Please submit as a notebook in the format `HW2_FIRSTNAME_LASTNAME_USCID.ipynb` in a group chat to me and the TAs.\n",
    "\n",
    "Your `USCID` is your student 10-digit ID."
   ]
  },
  {
   "cell_type": "markdown",
   "id": "be029ae1",
   "metadata": {},
   "source": [
    "### Part I.  Topic Modelling and Analysis (5pts)\n",
    "\n",
    "Pick from **one** of the dataset options below:\n",
    "* **Negative McDonalds Yelp reviews**: `datasets/mcdonalds-yelp-negative-reviews.csv`\n",
    "* **[Top 5000 Udemy courses](https://www.kaggle.com/datasets/90eededa5561eee7f62c0e68ecdad14c2bdb58bc923834067025dee655a6083e?resource=download)** - a Kaggle dataset of the course descriptions of the top 5000 Udemy courses in 2022: `datasets/top5000_udemy.csv`\n",
    "\n",
    "In your notebook, explore the data and perform topic modelling. You may use any vectorization or text preprocessing techniques we have discussed.\n",
    "\n",
    "In order to earn full credit, you must:\n",
    "\n",
    "* Show the **# of topics you tried, and explain why you ultimately decided on the final #**.\n",
    "* Demonstrate **adequate text preprocessing (there are likely obvious stopwords / fuzzy matching / regex groupings that can be done to improve the final results)** - show what you tried.\n",
    "* In 2-3 sentences: A **business analysis of these topics - what do they reveal as actionable next steps or insights for McDonalds or Udemy?** Please be specific in your recommendations/insights.\n",
    "    - **Not specific**: *We recommend Amazon look into the quality of their toys, since the reviews show disatisfaction with the value of their product.*\n",
    "    - **Specific**: *Amazon should explore more durable batteries/hardwares. For example, X% of reviews mention that the toys' batteries were broken or immediately died. This is part of a larger theme of components not being ready to use out the box, which often leads to disappointment on holiday occasions when children open up their gifts. See the following document snippets as examples:...*"
   ]
  },
  {
   "cell_type": "markdown",
   "id": "bc36b905",
   "metadata": {},
   "source": [
    "### Part II. Emotion Classification (5 pts)\n",
    "\n",
    "Use the `datasets/emotions_dataset.zip` (see the original Dataset source on [Kaggle](https://www.kaggle.com/datasets/praveengovi/emotions-dataset-for-nlp)) to build a classification model that predicts the emotion of sentence. If you would like, you may classify only the top 4 emotions, and group all other classes as `Other`. \n",
    "\n",
    "In order to earn full credit, you must:\n",
    "\n",
    "* Show the performance of your model with `CountVectorizer`, `TfIdfVectorizer`, `word2vec`, and `glove` embeddings.\n",
    "    - for `word2vec`, make sure not to use the `en_core_web_sm` dataset (these are not real embeddings)\n",
    "* Perform text preprocessing (or explain why it was not necessary):\n",
    "    - stopword removal\n",
    "    - ngram tokenization\n",
    "    - stemming/lemmatization\n",
    "    - fuzzy matching / regex cleaning / etc. (as you deem necessary, but show that you analyzed the text to make your decision)\n",
    "* Show **AUROC / F1 scores** for on the holdout (test + validation) datasets.\n",
    "* A brief discussion (2-3 sentences) of what could improve your model and why."
   ]
  }
 ],
 "metadata": {
  "kernelspec": {
   "display_name": "Python 3 (ipykernel)",
   "language": "python",
   "name": "python3"
  },
  "language_info": {
   "codemirror_mode": {
    "name": "ipython",
    "version": 3
   },
   "file_extension": ".py",
   "mimetype": "text/x-python",
   "name": "python",
   "nbconvert_exporter": "python",
   "pygments_lexer": "ipython3",
   "version": "3.9.6"
  }
 },
 "nbformat": 4,
 "nbformat_minor": 5
}
