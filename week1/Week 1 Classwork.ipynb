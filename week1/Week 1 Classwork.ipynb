{
 "cells": [
  {
   "cell_type": "markdown",
   "id": "2631d0ef",
   "metadata": {},
   "source": [
    "# Week 1 Classwork\n",
    "\n",
    "Read the `tweets_airlines.csv` dataset, which is located in the `../datasets/tweets_airlines.csv` path."
   ]
  },
  {
   "cell_type": "code",
   "execution_count": 20,
   "id": "50494c2a",
   "metadata": {},
   "outputs": [],
   "source": [
    "import pandas as pd\n",
    "df = pd.read_csv(\"../datasets/tweets_airlines.csv\")\n",
    "tweets = df.text.tolist()"
   ]
  },
  {
   "cell_type": "markdown",
   "id": "8c2e365e",
   "metadata": {},
   "source": [
    "#### 1. Word tokenize the text using the `nltk` library and report the average number of tokens per tweet."
   ]
  },
  {
   "cell_type": "code",
   "execution_count": null,
   "id": "298cec4f",
   "metadata": {},
   "outputs": [],
   "source": []
  },
  {
   "cell_type": "markdown",
   "id": "4d1cdf94",
   "metadata": {},
   "source": [
    "#### 2. After performing count vectorization on a text dataset, you find that you have a dataframe of shape (836, 14322). What do these two numbers mean?"
   ]
  },
  {
   "cell_type": "markdown",
   "id": "266a84fe",
   "metadata": {},
   "source": [
    "\n"
   ]
  },
  {
   "cell_type": "markdown",
   "id": "f33146d3",
   "metadata": {},
   "source": [
    "#### 3. Calculate precison and recall given the following results from a confusion matrix:\n",
    "\n",
    "<img src=\"../images/exercise.jpeg\" alt=\"Different Stemming Techniques\" style=\"width:600px;\"/>\n"
   ]
  },
  {
   "cell_type": "code",
   "execution_count": null,
   "id": "28c8351c",
   "metadata": {},
   "outputs": [],
   "source": []
  },
  {
   "cell_type": "markdown",
   "id": "5e4b07dc",
   "metadata": {},
   "source": [
    "#### 4. Write a regular expression to find all words that have at least 3 upper/lowercase alphabetical letters but no numbers."
   ]
  },
  {
   "cell_type": "code",
   "execution_count": 47,
   "id": "f1f445b7",
   "metadata": {},
   "outputs": [],
   "source": [
    "import re\n"
   ]
  },
  {
   "cell_type": "markdown",
   "id": "ce29186c",
   "metadata": {},
   "source": [
    "#### 5. Write a regular expression that parses out **all hashtags** used in a tweet (note that we will consider hashtags to have 3 or more characters):\n",
    "> *people saying #GoT is boring after watching 3 episodes lmao yall are so used to mediocrity and fast paced stories without any depth and complexity in it’s characters so y’all can’t appreciate it’s the #1 show in America, but GoT outsold for a reason #GameOfThrones #LevelUpSon*"
   ]
  },
  {
   "cell_type": "code",
   "execution_count": 48,
   "id": "03c296f5",
   "metadata": {},
   "outputs": [],
   "source": [
    "import re\n",
    "\n",
    "text = \"\"\"\n",
    "people saying #GoT is boring after watching 3 episodes lmao yall are so used to mediocrity and \n",
    "fast paced stories without any depth and complexity in it’s characters so y’all can’t appreciate \n",
    "it’s the #1 show in America, but GoT outsold for a reason #GameOfThrones #LevelUpSon\n",
    "\"\"\""
   ]
  },
  {
   "cell_type": "code",
   "execution_count": null,
   "id": "0ce370ad",
   "metadata": {},
   "outputs": [],
   "source": []
  }
 ],
 "metadata": {
  "kernelspec": {
   "display_name": "Python 3 (ipykernel)",
   "language": "python",
   "name": "python3"
  },
  "language_info": {
   "codemirror_mode": {
    "name": "ipython",
    "version": 3
   },
   "file_extension": ".py",
   "mimetype": "text/x-python",
   "name": "python",
   "nbconvert_exporter": "python",
   "pygments_lexer": "ipython3",
   "version": "3.9.6"
  }
 },
 "nbformat": 4,
 "nbformat_minor": 5
}
